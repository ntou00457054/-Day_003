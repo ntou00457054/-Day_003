{
 "cells": [
  {
   "cell_type": "markdown",
   "metadata": {},
   "source": [
    "# Python 下載XML檔案與解析\n",
    "\n",
    "\n",
    "* 了解 xml 檔案格式與內容\n",
    "* 能夠利用套件存取 xml 格式的檔案\n"
   ]
  },
  {
   "cell_type": "markdown",
   "metadata": {},
   "source": [
    "## 存取 XML 的三種套件"
   ]
  },
  {
   "cell_type": "code",
   "execution_count": 18,
   "metadata": {},
   "outputs": [
    {
     "name": "stdout",
     "output_type": "stream",
     "text": [
      "爬蟲馬拉松\n",
      "01 資料來源與存取\n",
      "02 靜態網頁爬蟲\n",
      "03 動態網頁爬蟲\n"
     ]
    },
    {
     "data": {
      "text/plain": [
       "'\\n補充 : xml DOM 背景知識(w3school): https://www.w3school.com.cn/xmldom/index.asp\\n'"
      ]
     },
     "execution_count": 18,
     "metadata": {},
     "output_type": "execute_result"
    }
   ],
   "source": [
    "import xml.dom.minidom\n",
    "# -*- coding: UTF-8 -*- open 要自己設attribute\n",
    "\n",
    "# 存取檔案(by開啟文件)\n",
    "doc = xml.dom.minidom.parse(\"./sample.xml\")  #return document\n",
    "\n",
    "# 存取我們的資訊\n",
    "print(doc.getElementsByTagName(\"Title\")[0].firstChild.nodeValue)\n",
    "\n",
    "# 用迴圈存取我們的資訊\n",
    "chapters = doc.getElementsByTagName(\"Chapter\")\n",
    "for chapter in chapters:\n",
    "    print (chapter.getAttribute('name'), chapter.firstChild.nodeValue)\n",
    "    \n",
    "'''\n",
    "補充 : xml DOM 背景知識(w3school): https://www.w3school.com.cn/xmldom/index.asp\n",
    "'''"
   ]
  },
  {
   "cell_type": "code",
   "execution_count": 19,
   "metadata": {},
   "outputs": [
    {
     "name": "stdout",
     "output_type": "stream",
     "text": [
      "爬蟲馬拉松\n",
      "01 資料來源與存取\n",
      "02 靜態網頁爬蟲\n",
      "03 動態網頁爬蟲\n"
     ]
    }
   ],
   "source": [
    "import xml.etree.ElementTree as ET \n",
    "\n",
    "\n",
    "# 存取檔案\n",
    "tree = ET.parse('./sample.xml') \n",
    "root = tree.getroot()\n",
    "\n",
    "# 存取我們的資訊\n",
    "print(root[0].text)\n",
    "# 用迴圈存取我們的資訊\n",
    "chapters = root[2]\n",
    "for chapter in chapters:\n",
    "    print (chapter.attrib['name'], chapter.text)"
   ]
  },
  {
   "cell_type": "code",
   "execution_count": 20,
   "metadata": {},
   "outputs": [
    {
     "name": "stdout",
     "output_type": "stream",
     "text": [
      "爬蟲馬拉松\n",
      "01 資料來源與存取\n",
      "02 靜態網頁爬蟲\n",
      "03 動態網頁爬蟲\n"
     ]
    }
   ],
   "source": [
    "import xmltodict\n",
    "\n",
    "# 存取檔案\n",
    "\n",
    "with open('./sample.xml',encoding = 'utf-8') as fd:\n",
    "    doc = dict(xmltodict.parse(fd.read()))\n",
    "\n",
    "# 存取我們的資訊\n",
    "print(doc['CUPOY']['Title'])\n",
    "\n",
    "# 用迴圈存取我們的資訊\n",
    "chapters = doc['CUPOY']['Chapters']['Chapter']\n",
    "for chapter in chapters:\n",
    "    print (chapter['@name'], chapter['#text'])#name is attribute，text is not a label"
   ]
  },
  {
   "cell_type": "markdown",
   "metadata": {},
   "source": [
    "## 下載檔案"
   ]
  },
  {
   "cell_type": "code",
   "execution_count": 21,
   "metadata": {},
   "outputs": [],
   "source": [
    "# 下載檔案\n",
    "import urllib.request\n",
    "import zipfile\n",
    "\n",
    "res = \"http://opendata.cwb.gov.tw/govdownload?dataid=F-D0047-093&authorizationkey=rdec-key-123-45678-011121314\"\n",
    "urllib.request.urlretrieve(res, \"./data/example.zip\")\n",
    "f = zipfile.ZipFile('./data/example.zip')#拿到zip檔\n",
    "f.extractall('./data')#全部解壓縮\n"
   ]
  },
  {
   "cell_type": "code",
   "execution_count": 22,
   "metadata": {},
   "outputs": [
    {
     "name": "stdout",
     "output_type": "stream",
     "text": [
      "09007_72hr_CH.xml\n",
      "09007_72hr_EN.xml\n",
      "09007_Week24_CH.xml\n",
      "09007_Week24_EN.xml\n",
      "09007_Weekday_CH.xml\n",
      "09007_Weekday_EN.xml\n",
      "09020_72hr_CH.xml\n",
      "09020_72hr_EN.xml\n",
      "09020_Week24_CH.xml\n",
      "09020_Week24_EN.xml\n",
      "09020_Weekday_CH.xml\n",
      "09020_Weekday_EN.xml\n",
      "10002_72hr_CH.xml\n",
      "10002_72hr_EN.xml\n",
      "10002_Week24_CH.xml\n",
      "10002_Week24_EN.xml\n",
      "10002_Weekday_CH.xml\n",
      "10002_Weekday_EN.xml\n",
      "10004_72hr_CH.xml\n",
      "10004_72hr_EN.xml\n",
      "10004_Week24_CH.xml\n",
      "10004_Week24_EN.xml\n",
      "10004_Weekday_CH.xml\n",
      "10004_Weekday_EN.xml\n",
      "10005_72hr_CH.xml\n",
      "10005_72hr_EN.xml\n",
      "10005_Week24_CH.xml\n",
      "10005_Week24_EN.xml\n",
      "10005_Weekday_CH.xml\n",
      "10005_Weekday_EN.xml\n",
      "10007_72hr_CH.xml\n",
      "10007_72hr_EN.xml\n",
      "10007_Week24_CH.xml\n",
      "10007_Week24_EN.xml\n",
      "10007_Weekday_CH.xml\n",
      "10007_Weekday_EN.xml\n",
      "10008_72hr_CH.xml\n",
      "10008_72hr_EN.xml\n",
      "10008_Week24_CH.xml\n",
      "10008_Week24_EN.xml\n",
      "10008_Weekday_CH.xml\n",
      "10008_Weekday_EN.xml\n",
      "10009_72hr_CH.xml\n",
      "10009_72hr_EN.xml\n",
      "10009_Week24_CH.xml\n",
      "10009_Week24_EN.xml\n",
      "10009_Weekday_CH.xml\n",
      "10009_Weekday_EN.xml\n",
      "10010_72hr_CH.xml\n",
      "10010_72hr_EN.xml\n",
      "10010_Week24_CH.xml\n",
      "10010_Week24_EN.xml\n",
      "10010_Weekday_CH.xml\n",
      "10010_Weekday_EN.xml\n",
      "10013_72hr_CH.xml\n",
      "10013_72hr_EN.xml\n",
      "10013_Week24_CH.xml\n",
      "10013_Week24_EN.xml\n",
      "10013_Weekday_CH.xml\n",
      "10013_Weekday_EN.xml\n",
      "10014_72hr_CH.xml\n",
      "10014_72hr_EN.xml\n",
      "10014_Week24_CH.xml\n",
      "10014_Week24_EN.xml\n",
      "10014_Weekday_CH.xml\n",
      "10014_Weekday_EN.xml\n",
      "10015_72hr_CH.xml\n",
      "10015_72hr_EN.xml\n",
      "10015_Week24_CH.xml\n",
      "10015_Week24_EN.xml\n",
      "10015_Weekday_CH.xml\n",
      "10015_Weekday_EN.xml\n",
      "10016_72hr_CH.xml\n",
      "10016_72hr_EN.xml\n",
      "10016_Week24_CH.xml\n",
      "10016_Week24_EN.xml\n",
      "10016_Weekday_CH.xml\n",
      "10016_Weekday_EN.xml\n",
      "10017_72hr_CH.xml\n",
      "10017_72hr_EN.xml\n",
      "10017_Week24_CH.xml\n",
      "10017_Week24_EN.xml\n",
      "10017_Weekday_CH.xml\n",
      "10017_Weekday_EN.xml\n",
      "10018_72hr_CH.xml\n",
      "10018_72hr_EN.xml\n",
      "10018_Week24_CH.xml\n",
      "10018_Week24_EN.xml\n",
      "10018_Weekday_CH.xml\n",
      "10018_Weekday_EN.xml\n",
      "10020_72hr_CH.xml\n",
      "10020_72hr_EN.xml\n",
      "10020_Week24_CH.xml\n",
      "10020_Week24_EN.xml\n",
      "10020_Weekday_CH.xml\n",
      "10020_Weekday_EN.xml\n",
      "63_72hr_CH.xml\n",
      "63_72hr_EN.xml\n",
      "63_Week24_CH.xml\n",
      "63_Week24_EN.xml\n",
      "63_Weekday_CH.xml\n",
      "63_Weekday_EN.xml\n",
      "64_72hr_CH.xml\n",
      "64_72hr_EN.xml\n",
      "64_Week24_CH.xml\n",
      "64_Week24_EN.xml\n",
      "64_Weekday_CH.xml\n",
      "64_Weekday_EN.xml\n",
      "65_72hr_CH.xml\n",
      "65_72hr_EN.xml\n",
      "65_Week24_CH.xml\n",
      "65_Week24_EN.xml\n",
      "65_Weekday_CH.xml\n",
      "65_Weekday_EN.xml\n",
      "66_72hr_CH.xml\n",
      "66_72hr_EN.xml\n",
      "66_Week24_CH.xml\n",
      "66_Week24_EN.xml\n",
      "66_Weekday_CH.xml\n",
      "66_Weekday_EN.xml\n",
      "67_72hr_CH.xml\n",
      "67_72hr_EN.xml\n",
      "67_Week24_CH.xml\n",
      "67_Week24_EN.xml\n",
      "67_Weekday_CH.xml\n",
      "67_Weekday_EN.xml\n",
      "68_72hr_CH.xml\n",
      "68_72hr_EN.xml\n",
      "68_Week24_CH.xml\n",
      "68_Week24_EN.xml\n",
      "68_Weekday_CH.xml\n",
      "68_Weekday_EN.xml\n",
      "example.zip\n",
      "TAIWAN_72hr_CH.xml\n",
      "TAIWAN_72hr_EN.xml\n",
      "TAIWAN_Week24_CH.xml\n",
      "TAIWAN_Week24_EN.xml\n",
      "TAIWAN_Weekday_CH.xml\n",
      "TAIWAN_Weekday_EN.xml\n"
     ]
    }
   ],
   "source": [
    "import os, sys\n",
    "\n",
    "# 打开文件\n",
    "dirs = os.listdir( './data' )\n",
    "\n",
    "# 输出所有文件和文件夹\n",
    "for file in dirs:\n",
    "    print(file)"
   ]
  },
  {
   "cell_type": "markdown",
   "metadata": {},
   "source": [
    "## File I/O\n"
   ]
  },
  {
   "cell_type": "code",
   "execution_count": 23,
   "metadata": {},
   "outputs": [
    {
     "name": "stdout",
     "output_type": "stream",
     "text": [
      "<class 'str'>\n"
     ]
    }
   ],
   "source": [
    "# 讀檔案\n",
    "fh = open(\"./data/64_72hr_CH.xml\", \"r\",encoding='utf-8')\n",
    "xml = fh.read()\n",
    "fh.close()\n",
    "\n",
    "print(xml)\n"
   ]
  },
  {
   "cell_type": "markdown",
   "metadata": {},
   "source": [
    "## xmltodict 解析檔案內容\n"
   ]
  },
  {
   "cell_type": "code",
   "execution_count": 24,
   "metadata": {},
   "outputs": [],
   "source": [
    "# 解析檔案內容\n",
    "import xmltodict\n",
    "d = dict(xmltodict.parse(xml))"
   ]
  },
  {
   "cell_type": "code",
   "execution_count": 26,
   "metadata": {},
   "outputs": [
    {
     "name": "stdout",
     "output_type": "stream",
     "text": [
      "臺灣各縣市鄉鎮未來3天(72小時)逐3小時天氣預報\n",
      "OrderedDict([('datasetDescription', '臺灣各縣市鄉鎮未來3天(72小時)逐3小時天氣預報'), ('datasetLanguage', 'zh-TW'), ('issueTime', '2020-02-28T17:00:00+08:00'), ('validTime', OrderedDict([('startTime', '2020-02-28T18:00:00+08:00'), ('endTime', '2020-03-02T17:00:00+08:00')])), ('update', '2020-02-28T18:19:25+08:00')])\n"
     ]
    }
   ],
   "source": [
    "# 取出 datasetDescription\n",
    "datasetDescription = d['cwbopendata']['dataset']['datasetInfo']['datasetDescription']\n",
    "print(datasetDescription)\n",
    "#print(d['cwbopendata']['dataset']['datasetInfo']) #check 分層\n"
   ]
  },
  {
   "cell_type": "markdown",
   "metadata": {},
   "source": [
    "## 作業目標\n",
    "\n",
    "* 比較一下範例檔案中的「File I/O」與「xmltodict」讀出來的內容有什麼差異\n",
    "\n",
    "* 根據範例檔案的結果：\n",
    "    1. 請問高雄市有多少地區有溫度資料？\n",
    "    2. 請取出每一個地區所記錄的第一個時間點跟溫度\n",
    "    3. 請取出第一個地區所記錄的每一個時間點跟溫度"
   ]
  },
  {
   "cell_type": "code",
   "execution_count": null,
   "metadata": {},
   "outputs": [],
   "source": []
  }
 ],
 "metadata": {
  "kernelspec": {
   "display_name": "Python 3",
   "language": "python",
   "name": "python3"
  },
  "language_info": {
   "codemirror_mode": {
    "name": "ipython",
    "version": 3
   },
   "file_extension": ".py",
   "mimetype": "text/x-python",
   "name": "python",
   "nbconvert_exporter": "python",
   "pygments_lexer": "ipython3",
   "version": "3.7.4"
  }
 },
 "nbformat": 4,
 "nbformat_minor": 2
}
